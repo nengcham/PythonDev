{
 "cells": [
  {
   "cell_type": "markdown",
   "metadata": {},
   "source": [
    "https://meet74.webex.com/meet/pr1585236709\n",
    "\n",
    "https://github.com/nengcham/PythonDev.git\n",
    "\n",
    "https://hashcode.co.kr/code_runners\n",
    "\n",
    "1. vscode\n",
    "2. python\n",
    "3. jupyter\n",
    "4. material icon theme\n",
    "5. 글꼴: d2coding\n",
    "6. git / c드라이브로git bash \n",
    "7. git clone https://github.com/nengcham/PythonDev.git\n",
    "8. 마크다운 사용법\n",
    "9. tapout\n",
    "10. https://pythontutor.com/   쪼개서 보여주는 사이트\n",
    "11. 뉴렉쳐 유튜브\n",
    "12. 코딩도장 파이썬"
   ]
  },
  {
   "cell_type": "code",
   "execution_count": null,
   "metadata": {},
   "outputs": [],
   "source": [
    "'''\n",
    "좀 더 해야될것\n",
    "\n",
    "1. 리스트 내포(list comprehention) : [i for i ~ in if i~] \n",
    "    li = [i for i in range(1, 1001) if i % 3 == 0]    1~1000 사이의 3의배수 리스트생성\n",
    "2. while : 어떤 조건식이 트루가 나올때까지 반복\n",
    "3. for : 몇번 횟수동안 반복\n",
    "4. print(i, end=', ')                    -> 끝에',' 추가\n",
    "5. print(\"010\", \"1234\", \"5678\", sep='-') -> 사이에 '-' 추가\n",
    "6. 함수 만들땐 어떻게 할지 정하고 다음에 def\n",
    "7. round(,2) -> 소숫점 둘째자리 반올림\n",
    "8. join, split, replace -> ch04 - Q2\n",
    " 오늘 test 마지막문제 다시\n",
    "9. 깃헙에 자바 혼공자료\n",
    "10. ~class 까지 2회독 필수 + 콜렉션 프레임워크\n",
    "\n",
    "\n",
    "'''"
   ]
  }
 ],
 "metadata": {
  "language_info": {
   "name": "python"
  },
  "orig_nbformat": 4
 },
 "nbformat": 4,
 "nbformat_minor": 2
}
