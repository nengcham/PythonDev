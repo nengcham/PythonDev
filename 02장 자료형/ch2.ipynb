{
 "cells": [
  {
   "cell_type": "markdown",
   "metadata": {},
   "source": [
    "##### 점프 투 파이썬\n",
    "---\n",
    "02장 연습문제"
   ]
  },
  {
   "cell_type": "markdown",
   "metadata": {},
   "source": [
    "> Q1    \n",
    "``` py\n",
    "    홍길동 씨의 과목별 점수는 다음과 같다. 홍길동 씨의 평균 점수를 구해 보자.\n",
    "\n",
    "    과목\t점수\n",
    "    국어\t80\n",
    "    영어\t75\n",
    "    수학\t55   \n",
    "```"
   ]
  },
  {
   "cell_type": "code",
   "execution_count": 5,
   "metadata": {},
   "outputs": [
    {
     "name": "stdout",
     "output_type": "stream",
     "text": [
      "총점:  210 입니다.\n",
      "평균:  70.0 입니다.\n"
     ]
    }
   ],
   "source": [
    "korean = 80\n",
    "english = 75\n",
    "math = 55\n",
    "total = korean + english + math\n",
    "average = total / 3\n",
    "\n",
    "print(\"총점: \", total, \"입니다.\")\n",
    "print(\"평균: \", average, \"입니다.\")"
   ]
  },
  {
   "cell_type": "code",
   "execution_count": 9,
   "metadata": {},
   "outputs": [
    {
     "name": "stdout",
     "output_type": "stream",
     "text": [
      "<class 'list'>\n",
      "평균:  70.0 입니다.\n"
     ]
    }
   ],
   "source": [
    "subjects = [80, 75, 55]\n",
    "total = subjects[0] + subjects[1] + subjects[2]\n",
    "avg = total / len(subjects)\n",
    "\n",
    "print(\"평균: \", average, \"입니다.\")"
   ]
  },
  {
   "cell_type": "code",
   "execution_count": 13,
   "metadata": {},
   "outputs": [
    {
     "name": "stdout",
     "output_type": "stream",
     "text": [
      "평균:  70.0 입니다.\n"
     ]
    }
   ],
   "source": [
    "subjects = [80, 75, 55]\n",
    "total = sum(subjects)\n",
    "avg = total / len(subjects)\n",
    "\n",
    "print(\"평균: \", average, \"입니다.\")"
   ]
  },
  {
   "cell_type": "code",
   "execution_count": 16,
   "metadata": {},
   "outputs": [
    {
     "name": "stdout",
     "output_type": "stream",
     "text": [
      "평균:  70.0 입니다.\n"
     ]
    }
   ],
   "source": [
    "subjects = {\"국어\":80, \"영어\":75, \"수학\":55}\n",
    "total = subjects[\"국어\"] + subjects[\"영어\"] + subjects[\"수학\"]\n",
    "avg = total / len(subjects)\n",
    "\n",
    "print(\"평균: \", average, \"입니다.\")"
   ]
  },
  {
   "cell_type": "code",
   "execution_count": 27,
   "metadata": {},
   "outputs": [
    {
     "name": "stdout",
     "output_type": "stream",
     "text": [
      "이름:  최건일\n",
      "총점:  210\n",
      "평균:  70.0\n"
     ]
    }
   ],
   "source": [
    "# 사용자로부터 이름과 성적을 입력받아 총점과 평균을 구해 출력하는 \n",
    "# 프로그램을 작성하시오. \n",
    "\n",
    "name = input(\"이름을 입력하세요: \")\n",
    "kor = input(\"국어 성적을 입력하세요: \")\n",
    "eng = input(\"영어 성적을 입력하세요: \")\n",
    "math = input(\"수학 성적을 입력하세요: \")\n",
    "total = int(kor) + int(eng) + int(math)\n",
    "avg = total / 3\n",
    "\n",
    "print(\"이름: \", name)\n",
    "print(\"총점: \", total)\n",
    "print(\"평균: \", avg)"
   ]
  },
  {
   "cell_type": "code",
   "execution_count": 3,
   "metadata": {},
   "outputs": [
    {
     "name": "stdout",
     "output_type": "stream",
     "text": [
      "이름: 123\n",
      "총점: 5031\n",
      "평균: 1677.00\n"
     ]
    }
   ],
   "source": [
    "name = input(\"이름을 입력하세요: \")\n",
    "kor = input(\"국어 성적을 입력하세요: \")\n",
    "eng = input(\"영어 성적을 입력하세요: \")\n",
    "math = input(\"수학 성적을 입력하세요: \")\n",
    "total = int(kor) + int(eng) + int(math)\n",
    "avg = total / 3\n",
    "\n",
    "print(\"이름: %s\\n총점: %d\\n평균: %.2f\"% (name, total, avg))"
   ]
  },
  {
   "cell_type": "code",
   "execution_count": 4,
   "metadata": {},
   "outputs": [
    {
     "name": "stdout",
     "output_type": "stream",
     "text": [
      "이름: 123\n",
      "총점: 113\n",
      "평균: 37.666666666666664\n"
     ]
    }
   ],
   "source": [
    "name = input(\"이름을 입력하세요: \")\n",
    "kor = input(\"국어 성적을 입력하세요: \")\n",
    "eng = input(\"영어 성적을 입력하세요: \")\n",
    "math = input(\"수학 성적을 입력하세요: \")\n",
    "total = int(kor) + int(eng) + int(math)\n",
    "avg = total / 3\n",
    "\n",
    "print(f\"이름: {name}\\n총점: {total}\\n평균: {avg}\")"
   ]
  },
  {
   "cell_type": "markdown",
   "metadata": {},
   "source": [
    "> Q2   \n",
    "``` py\n",
    "    자연수 13이 홀수인지 짝수인지 판별할 수 있는 방법에 대해 말해 보자.\n",
    "```"
   ]
  },
  {
   "cell_type": "code",
   "execution_count": 27,
   "metadata": {},
   "outputs": [
    {
     "name": "stdout",
     "output_type": "stream",
     "text": [
      "홀수입니다.\n"
     ]
    }
   ],
   "source": [
    "num = 13\n",
    "if num%2 >0:\n",
    "    print(\"홀수입니다.\")\n",
    "else :\n",
    "    print(\"짝수입니다.\")\n"
   ]
  },
  {
   "cell_type": "code",
   "execution_count": 7,
   "metadata": {},
   "outputs": [
    {
     "name": "stdout",
     "output_type": "stream",
     "text": [
      "짝수입니다.\n"
     ]
    }
   ],
   "source": [
    "num = input(\"자연수를 입력해 주세요: \")\n",
    "# num = int(input(\"자연수를 입력해 주세요: \"))\n",
    "if int(num)%2 == 0:\n",
    "    print(\"짝수입니다.\")\n",
    "else :\n",
    "    print(\"홀수입니다.\")"
   ]
  },
  {
   "cell_type": "code",
   "execution_count": 11,
   "metadata": {},
   "outputs": [
    {
     "name": "stdout",
     "output_type": "stream",
     "text": [
      "홀수입니다.\n"
     ]
    }
   ],
   "source": [
    "# 2n + 1, 2n - 1\n",
    "\n",
    "num = input(\"자연수를 입력해 주세요: \")\n",
    "if num[-1] in \"02468\":\n",
    "    print(\"짝수입니다.\")\n",
    "else :\n",
    "    print(\"홀수입니다.\")"
   ]
  },
  {
   "cell_type": "code",
   "execution_count": null,
   "metadata": {},
   "outputs": [],
   "source": [
    "# [all] 'and' 는 모두 참이어야 참\n",
    "# 순서대로 계산할 때 앞에서 false가 나면 뒤에 확인 안하고 false -> 연산속도 영향\n",
    "# True and True and False -> False\n",
    "# [any] 'or' 은 하나만 참이어도 참 \n",
    "# False or False or and True-> True\n",
    "# 나이가 60세 이상이거나 국가 유공자는 무료입니다."
   ]
  },
  {
   "cell_type": "markdown",
   "metadata": {},
   "source": [
    "> Q3   \n",
    "``` py   \n",
    "    홍길동 씨의 주민등록번호는 881120-1068234이다.  \n",
    "    홍길동 씨의 주민등록번호를 연월일(YYYYMMDD) 부분과 그 뒤의 숫자 부분으로 나누어 출력해 보자.\n",
    "```"
   ]
  },
  {
   "cell_type": "code",
   "execution_count": 19,
   "metadata": {},
   "outputs": [
    {
     "name": "stdout",
     "output_type": "stream",
     "text": [
      "앞자리: 881120\n",
      "뒷자리: 1068234\n"
     ]
    }
   ],
   "source": [
    "code = '881120-1068234'\n",
    "YYYYMMDD = code[:6]\n",
    "num = code[7:]\n",
    "print(\"앞자리:\",YYYYMMDD)\n",
    "print(\"뒷자리:\",num)"
   ]
  },
  {
   "cell_type": "code",
   "execution_count": 18,
   "metadata": {},
   "outputs": [
    {
     "name": "stdout",
     "output_type": "stream",
     "text": [
      "앞자리: 881120\n",
      "뒷자리: 1068234\n"
     ]
    }
   ],
   "source": [
    "code = input(\"주민등록번호 - 없이 입력해 주세요: \")\n",
    "YYYYMMDD = code[:6]\n",
    "num = code[6:]\n",
    "print(\"앞자리:\",YYYYMMDD)\n",
    "print(\"뒷자리:\",num)"
   ]
  },
  {
   "cell_type": "markdown",
   "metadata": {},
   "source": [
    "> Q4   \n",
    "``` py   \n",
    "    주민등록번호 뒷자리의 맨 첫 번째 숫자는 성별을 나타낸다.    \n",
    "    주민등록번호에서 성별을 나타내는 숫자를 출력해 보자.   \n",
    "```"
   ]
  },
  {
   "cell_type": "code",
   "execution_count": 21,
   "metadata": {},
   "outputs": [
    {
     "name": "stdout",
     "output_type": "stream",
     "text": [
      "남성입니다.\n"
     ]
    }
   ],
   "source": [
    "code = \"881120-1068234\"\n",
    "gender = code[7]\n",
    "if gender == '1':\n",
    "    print(\"남성입니다.\")\n",
    "else:\n",
    "    print(\"여성입니다.\")\n",
    "\n"
   ]
  },
  {
   "cell_type": "code",
   "execution_count": 1,
   "metadata": {},
   "outputs": [
    {
     "name": "stdout",
     "output_type": "stream",
     "text": [
      "남성입니다.\n"
     ]
    }
   ],
   "source": [
    "code = input(\"주민등록번호 - 없이 입력해 주세요: \")\n",
    "gender = code[6]\n",
    "if gender == '1':\n",
    "    print(\"남성입니다.\")\n",
    "else:\n",
    "    print(\"여성입니다.\")"
   ]
  },
  {
   "cell_type": "code",
   "execution_count": 33,
   "metadata": {},
   "outputs": [
    {
     "name": "stdout",
     "output_type": "stream",
     "text": [
      "출생년도: 88 년\n",
      "여성입니다.\n"
     ]
    }
   ],
   "source": [
    "# 주민번호 13자리를 입력받아 출생년도와 나이 성벼을 출력해주는 프로그램을 작성하시오.\n",
    "# 881120-1068234\n",
    "pin = input(\"주민등록번호 - 없이 입력해 주세요: \")\n",
    "age = pin[:2]\n",
    "print(\"출생년도:\",age,\"년\")\n",
    "gender = pin[6]\n",
    "if gender == '1':\n",
    "    print(\"남성입니다.\")\n",
    "else:\n",
    "    print(\"여성입니다.\")"
   ]
  },
  {
   "cell_type": "code",
   "execution_count": 93,
   "metadata": {},
   "outputs": [
    {
     "name": "stdout",
     "output_type": "stream",
     "text": [
      "태어난 년도는 1980이고, 올해 43살 입니다.\n",
      "남성입니다.\n"
     ]
    }
   ],
   "source": [
    "pin = \"8011121074610\"\n",
    "yyyymmdd = pin[:6]\n",
    "gender = pin[6] \n",
    "\n",
    "if gender in \"12\":\n",
    "    year = '19'+ yyyymmdd[:1+1]\n",
    "elif gender in \"34\":\n",
    "    year = '20'+ yyyymmdd[:1+1]    \n",
    "\n",
    "age = 2022 - int(year) + 1\n",
    "\n",
    "print(f\"태어난 년도는 {year}이고, 올해 {age}살 입니다.\")\n",
    "\n",
    "if int(gender) % 2 == 0:\n",
    "    print(\"여성입니다.\")\n",
    "else:\n",
    "    print(\"남성입니다.\")    "
   ]
  },
  {
   "cell_type": "markdown",
   "metadata": {},
   "source": [
    "> Q5   \n",
    "``` py\n",
    "    다음과 같은 문자열 a:b:c:d가 있다.    \n",
    "    문자열의 replace 함수를 사용하여 a#b#c#d로 바꿔서 출력해 보자.   \n",
    "```"
   ]
  },
  {
   "cell_type": "code",
   "execution_count": 39,
   "metadata": {},
   "outputs": [
    {
     "name": "stdout",
     "output_type": "stream",
     "text": [
      "a#b#c#d\n",
      "Java Programing\n"
     ]
    }
   ],
   "source": [
    "text = \"a:b:c:d\"\n",
    "b = text.replace(\":\", \"#\")\n",
    "print(b)"
   ]
  },
  {
   "cell_type": "markdown",
   "metadata": {},
   "source": [
    "> Q6.   \n",
    "``` py   \n",
    "    [1, 3, 5, 4, 2]라는 리스트를 [5, 4, 3, 2, 1]로 만들어보자.   \n",
    "```"
   ]
  },
  {
   "cell_type": "code",
   "execution_count": 43,
   "metadata": {},
   "outputs": [
    {
     "name": "stdout",
     "output_type": "stream",
     "text": [
      "[20, 30, 40, 50, 95, 100]\n",
      "[100, 95, 50, 40, 30, 20]\n"
     ]
    },
    {
     "data": {
      "text/plain": [
       "True"
      ]
     },
     "execution_count": 43,
     "metadata": {},
     "output_type": "execute_result"
    }
   ],
   "source": [
    "a = [100, 30, 50, 40, 20, 95]\n",
    "a.sort()\n",
    "print(a)\n",
    "a.reverse()\n",
    "print(a)\n",
    "max(a) == a[0]"
   ]
  },
  {
   "cell_type": "markdown",
   "metadata": {},
   "source": [
    "> Q7.   \n",
    "``` py   \n",
    "    ['Life', 'is', 'too', 'short'] 라는 리스트를 Life is too short라는 문자열로 만들어 출력해 보자.   \n",
    "```"
   ]
  },
  {
   "cell_type": "code",
   "execution_count": 49,
   "metadata": {},
   "outputs": [
    {
     "name": "stdout",
     "output_type": "stream",
     "text": [
      "\n",
      "Life \n",
      "Life is \n",
      "Life is too \n",
      "Life is too short \n"
     ]
    }
   ],
   "source": [
    "old_text = ['Life', 'is', 'too', 'short']\n",
    "# new_text = old_text[0] + \" \" + old_text[1] + \" \" + old_text[2] + \" \" + old_text[3]\n",
    "new_text = \"\"\n",
    "for s in old_text:\n",
    "    print(new_text)\n",
    "    new_text += s + \" \"\n",
    "\n",
    "print(new_text)"
   ]
  },
  {
   "cell_type": "code",
   "execution_count": 53,
   "metadata": {},
   "outputs": [
    {
     "name": "stdout",
     "output_type": "stream",
     "text": [
      "Life is too short\n"
     ]
    }
   ],
   "source": [
    "old_text = ['Life', 'is', 'too', 'short']\n",
    "new_text = \"{} {} {} {}\".format(old_text[0], old_text[1], old_text[2], old_text[3],)\n",
    "print(new_text)"
   ]
  },
  {
   "cell_type": "markdown",
   "metadata": {},
   "source": [
    "> Q8.   \n",
    "``` py   \n",
    "    (1,2,3)이라는 튜플에 4라는 값을 추가하여 (1,2,3,4)처럼 만들어 출력해 보자.   \n",
    "```"
   ]
  },
  {
   "cell_type": "code",
   "execution_count": 71,
   "metadata": {},
   "outputs": [
    {
     "name": "stdout",
     "output_type": "stream",
     "text": [
      "li = [100, 2, 3]\n",
      "tu2= (1, 2, 3, 4)\n"
     ]
    }
   ],
   "source": [
    "objects = ['a', 1, True, [100, ['x', 'y']]]\n",
    "objects[-1][1][1]\n",
    "\n",
    "\n",
    "li = [1, 2, 3]\n",
    "tu = (1, 2, 3)\n",
    "\n",
    "li[0] = 100\n",
    "print(\"li =\", li)\n",
    "\n",
    "li2 = [1, 2, 3, 4]\n",
    "tu2 = tuple(li2)\n",
    "print(\"tu2=\", tu2)"
   ]
  },
  {
   "cell_type": "markdown",
   "metadata": {},
   "source": [
    "> Q9.   \n",
    "``` py   \n",
    "    다음과 같은 딕셔너리 a가 있다. 다음 중 오류가 발생하는 경우는 어떤 경우인가?   \n",
    "    그리고 그 이유를 설명해 보자.   \n",
    "    >>> a = dict()   \n",
    "    >>> a   \n",
    "    {}   \n",
    "\n",
    "    다음 중 오류가 발생하는 경우를 고르고, 그 이유를 설명해 보자.   \n",
    "\n",
    "    1. a['name'] = 'python'   \n",
    "    2. a[('a',)] = 'python'   \n",
    "    3. a[[1]] = 'python'   \n",
    "    4. a[250] = 'python'   \n",
    "```"
   ]
  },
  {
   "cell_type": "code",
   "execution_count": 78,
   "metadata": {},
   "outputs": [
    {
     "name": "stdout",
     "output_type": "stream",
     "text": [
      "{'name': 'python', ('a',): 'python', 250: 'python'}\n"
     ]
    }
   ],
   "source": [
    "a = dict()\n",
    "a['name'] = 'python'\n",
    "a[('a',)] = 'python'   \n",
    "# a[[1]] = 'python'\n",
    "a[250] = 'python'\n",
    "\n",
    "print(a)\n",
    "# key에는 리스트가 들어갈 수 없다. key는 중복되서는 안되고 유일해야함."
   ]
  },
  {
   "cell_type": "markdown",
   "metadata": {},
   "source": [
    "> Q10   \n",
    "``` py   \n",
    "    딕셔너리 a에서 'B'에 해당되는 값을 추출해 보자.   \n",
    "\n",
    "    >>> a = {'A':90, 'B':80, 'C':70}   \n",
    "    ※ 딕셔너리의 pop 함수를 사용해 보자.   \n",
    "```"
   ]
  },
  {
   "cell_type": "code",
   "execution_count": 97,
   "metadata": {},
   "outputs": [
    {
     "name": "stdout",
     "output_type": "stream",
     "text": [
      "{'A': 90, 'C': 70}\n",
      "80\n"
     ]
    }
   ],
   "source": [
    "a = {'A':90, 'B':80, 'C':70}   \n",
    "a['B'] \n",
    "b = a.pop('B')\n",
    "print(a)\n",
    "print(b)\n"
   ]
  },
  {
   "cell_type": "markdown",
   "metadata": {},
   "source": [
    "> Q11   \n",
    "``` py   \n",
    "    a 리스트에서 중복 숫자를 제거해 보자.   \n",
    "\n",
    "    >>> a = [1, 1, 1, 2, 2, 3, 3, 3, 4, 4, 5]    \n",
    "    ※ 집합 자료형의 요솟값이 중복될 수 없다는 특징을 사용해 보자.    \n",
    "```"
   ]
  },
  {
   "cell_type": "code",
   "execution_count": 99,
   "metadata": {},
   "outputs": [
    {
     "name": "stdout",
     "output_type": "stream",
     "text": [
      "[1, 1, 1, 2, 2, 3, 3, 3, 4, 4, 5]\n",
      "{1, 2, 3, 4, 5}\n"
     ]
    }
   ],
   "source": [
    "# [1, 2, 3]             : 리스트\n",
    "# (1, 2, 3)             : 튜플\n",
    "# {'a':1, 'b':2, 'c':3} : 딕셔너리\n",
    "# {1, 2, 3}             : 셋\n",
    "\n",
    "a = [1, 1, 1, 2, 2, 3, 3, 3, 4, 4, 5] \n",
    "a2 = set(a)\n",
    "\n",
    "print(a)\n",
    "print(a2)"
   ]
  },
  {
   "cell_type": "markdown",
   "metadata": {},
   "source": [
    "> Q12   \n",
    "``` py   \n",
    "    파이썬은 다음처럼 동일한 값에 여러 개의 변수를 선언할 수 있다.    \n",
    "    다음과 같이 a, b 변수를 선언한 후 a의 두 번째 요솟값을 변경하면 b 값은 어떻게 될까?    \n",
    "    그리고 이런 결과가 오는 이유에 대해 설명해 보자.   \n",
    "\n",
    "    >>> a = b = [1, 2, 3]   \n",
    "    >>> a[1] = 4   \n",
    "    >>> print(b)   \n",
    "```"
   ]
  },
  {
   "cell_type": "code",
   "execution_count": 102,
   "metadata": {},
   "outputs": [
    {
     "name": "stdout",
     "output_type": "stream",
     "text": [
      "2912452919808\n",
      "[1, 4, 3]\n",
      "2912452919808\n"
     ]
    }
   ],
   "source": [
    "a = b = [1, 2, 3]\n",
    "print(id(a))\n",
    "a[1] = 4   \n",
    "print(b)\n",
    "print(id(a))\n",
    "# "
   ]
  }
 ],
 "metadata": {
  "interpreter": {
   "hash": "4aa7a001941c8b447200068b1d71a3924cf04f02fe096f0aa27a7230a4a7f943"
  },
  "kernelspec": {
   "display_name": "Python 3.10.1 64-bit",
   "language": "python",
   "name": "python3"
  },
  "language_info": {
   "codemirror_mode": {
    "name": "ipython",
    "version": 3
   },
   "file_extension": ".py",
   "mimetype": "text/x-python",
   "name": "python",
   "nbconvert_exporter": "python",
   "pygments_lexer": "ipython3",
   "version": "3.10.1"
  },
  "orig_nbformat": 4
 },
 "nbformat": 4,
 "nbformat_minor": 2
}
