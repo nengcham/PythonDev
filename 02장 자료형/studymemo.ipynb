{
 "cells": [
  {
   "cell_type": "markdown",
   "metadata": {},
   "source": [
    "https://meet74.webex.com/meet/pr1585236709\n",
    "\n",
    "https://github.com/nengcham/PythonDev.git\n",
    "\n",
    "https://hashcode.co.kr/code_runners\n",
    "\n",
    "1. vscode\n",
    "2. python\n",
    "3. jupyter\n",
    "4. material icon theme\n",
    "5. 글꼴: d2coding\n",
    "6. git / c드라이브로git bash \n",
    "7. git clone https://github.com/nengcham/PythonDev.git\n",
    "8. 마크다운 사용법\n",
    "9. tapout"
   ]
  },
  {
   "cell_type": "markdown",
   "metadata": {},
   "source": [
    "##### 좀 더 해야될것\n",
    "1. 포매팅\n",
    "2. .format()\n",
    "3. while 이용해서 q2 범위설정 해보기 -> 범위 벗어난 숫자는 다시 입력해주세요\n",
    "4. 평균60, 과락40 만들어보기\n",
    "5. 제어문 연습문제\n"
   ]
  }
 ],
 "metadata": {
  "language_info": {
   "name": "python"
  },
  "orig_nbformat": 4
 },
 "nbformat": 4,
 "nbformat_minor": 2
}
