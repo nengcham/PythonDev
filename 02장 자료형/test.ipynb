{
 "cells": [
  {
   "cell_type": "markdown",
   "metadata": {},
   "source": [
    "https://meet74.webex.com/meet/pr1585236709\n",
    "\n",
    "https://github.com/nengcham/PythonDev.git\n",
    "\n",
    "1. vscode\n",
    "2. python\n",
    "3. jupyter\n",
    "4. material icon theme\n",
    "5. 글꼴: d2coding\n",
    "6. git / c드라이브로git bash \n",
    "7. git clone https://github.com/nengcham/PythonDev.git\n",
    "8. 마크다운 사용법\n",
    "9. tapout"
   ]
  },
  {
   "cell_type": "code",
   "execution_count": 20,
   "metadata": {},
   "outputs": [
    {
     "name": "stdout",
     "output_type": "stream",
     "text": [
      "65\n",
      "66\n",
      "1\n"
     ]
    },
    {
     "data": {
      "text/plain": [
       "'0b101011'"
      ]
     },
     "execution_count": 20,
     "metadata": {},
     "output_type": "execute_result"
    }
   ],
   "source": [
    "print(ord('A')) # 인코딩: 문자열을 숫자로\n",
    "print(ord('B'))\n",
    "\n",
    "chr(65+25) # 디코딩: 숫자를 문자열로\n",
    "\n",
    "a = 0\n",
    "b = 1\n",
    "c = a + b\n",
    "print(c)\n",
    "\n",
    "bin(ord('+'))\n",
    "\n"
   ]
  }
 ],
 "metadata": {
  "interpreter": {
   "hash": "8931d08a56ba8ec5bd4013e6d6c9066a90d099ecd0b9731835efa4c48cf46a24"
  },
  "kernelspec": {
   "display_name": "Python 3.10.1 64-bit",
   "language": "python",
   "name": "python3"
  },
  "language_info": {
   "codemirror_mode": {
    "name": "ipython",
    "version": 3
   },
   "file_extension": ".py",
   "mimetype": "text/x-python",
   "name": "python",
   "nbconvert_exporter": "python",
   "pygments_lexer": "ipython3",
   "version": "3.10.1"
  },
  "orig_nbformat": 4
 },
 "nbformat": 4,
 "nbformat_minor": 2
}
