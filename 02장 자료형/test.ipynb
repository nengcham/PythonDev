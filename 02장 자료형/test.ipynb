{
 "cells": [
  {
   "cell_type": "code",
   "execution_count": 20,
   "metadata": {},
   "outputs": [
    {
     "name": "stdout",
     "output_type": "stream",
     "text": [
      "65\n",
      "66\n",
      "1\n"
     ]
    },
    {
     "data": {
      "text/plain": [
       "'0b101011'"
      ]
     },
     "execution_count": 20,
     "metadata": {},
     "output_type": "execute_result"
    }
   ],
   "source": [
    "print(ord('A')) # 인코딩: 문자열을 숫자로\n",
    "print(ord('B'))\n",
    "\n",
    "chr(65+25) # 디코딩: 숫자를 문자열로 \n",
    "\n",
    "a = 0\n",
    "b = 1\n",
    "c = a + b\n",
    "print(c)\n",
    "\n",
    "bin(ord('+'))\n",
    "# D2 Coding 폰트는 한글과도 잘 어울립니다. \n"
   ]
  },
  {
   "cell_type": "code",
   "execution_count": 2,
   "metadata": {},
   "outputs": [
    {
     "name": "stdout",
     "output_type": "stream",
     "text": [
      "C:\\PythonDev\\name\n"
     ]
    }
   ],
   "source": [
    "# \\\\ 사용예시\n",
    "path = \"C:\\\\PythonDev\\\\name\"\n",
    "path = \"C:/PythonDev/name\"\n",
    "print(path)"
   ]
  },
  {
   "cell_type": "code",
   "execution_count": 10,
   "metadata": {},
   "outputs": [
    {
     "data": {
      "text/plain": [
       "'❤'"
      ]
     },
     "execution_count": 10,
     "metadata": {},
     "output_type": "execute_result"
    }
   ],
   "source": [
    "\"문자열 \" * 3\n",
    "ord('A')\n",
    "ord('한')\n",
    "ord('❤') # 인코딩\n",
    "\n",
    "chr(10084) # 디코딩"
   ]
  },
  {
   "cell_type": "code",
   "execution_count": 11,
   "metadata": {},
   "outputs": [
    {
     "name": "stdout",
     "output_type": "stream",
     "text": [
      "3\n"
     ]
    }
   ],
   "source": [
    "array = [1, 2, 3, 4, 5]\n",
    "print(array[2])\n"
   ]
  },
  {
   "cell_type": "code",
   "execution_count": 25,
   "metadata": {},
   "outputs": [
    {
     "data": {
      "text/plain": [
       "5"
      ]
     },
     "execution_count": 25,
     "metadata": {},
     "output_type": "execute_result"
    }
   ],
   "source": [
    "# 인덱싱, 슬라이싱\n",
    "\n",
    "#                 1         2         3\n",
    "#       0123456789012345678901234567890123\n",
    "text = \"Life is too short, You need Python\"\n",
    "\n",
    "text[19]\n",
    "text[0]\n",
    "text[-1] == text[33]\n",
    "\n",
    "# text[시작인덱스 : 끝인덱스] -->   시작 <= text < 끝\n",
    "text[:3 + 1]\n",
    "text[12:16 + 1]\n",
    "text[28:]\n",
    "text[-6:]\n",
    "text[:] == text\n",
    "\n",
    "li = [1, 2, 3, 4, 5]\n",
    "li[:2+1]\n",
    "li[-1]"
   ]
  },
  {
   "cell_type": "code",
   "execution_count": 40,
   "metadata": {},
   "outputs": [
    {
     "name": "stdout",
     "output_type": "stream",
     "text": [
      "영희님의 국어점수는 90점 입니다.\n",
      "철수님의 국어점수는 80점 입니다.\n",
      "길동님의 국어점수는 70점 입니다.\n",
      "민수님의 국어점수는 60점 입니다.\n",
      "존님의 국어점수는 50점 입니다.\n"
     ]
    }
   ],
   "source": [
    "# 문자열 포매팅\n",
    "# for는 횟수반복\n",
    "\n",
    "name = [\"영희\", \"철수\", \"길동\", \"민수\", \"존\"]\n",
    "subject = \"국어\"\n",
    "score = [90, 80, 70, 60, 50]\n",
    "#               0, 1, 2 \n",
    "for n in range(len(name)):\n",
    "    text = \"%s님의 %s점수는 %d점 입니다.\" % (name[n], subject, score[n])\n",
    "    print(text)\n"
   ]
  },
  {
   "cell_type": "code",
   "execution_count": 43,
   "metadata": {},
   "outputs": [
    {
     "name": "stdout",
     "output_type": "stream",
     "text": [
      "영희님의 수학점수는 95점 입니다.\n"
     ]
    }
   ],
   "source": [
    "# 포맷 : \"{}문자열\".format()\n",
    "\n",
    "name = \"영희\"\n",
    "sub = \"수학\"\n",
    "score = 95\n",
    "\n",
    "text = \"{0}님의 {1}점수는 {2}점 입니다.\".format(name, sub, score)\n",
    "\n",
    "print(text)"
   ]
  },
  {
   "cell_type": "code",
   "execution_count": 44,
   "metadata": {},
   "outputs": [
    {
     "name": "stdout",
     "output_type": "stream",
     "text": [
      "영희님의 수학점수는 95점 입니다.\n"
     ]
    }
   ],
   "source": [
    "# 포맷2 : f{}\n",
    "\n",
    "name = \"영희\"\n",
    "sub = \"수학\"\n",
    "score = 95\n",
    "\n",
    "text = f\"{name}님의 {sub}점수는 {score}점 입니다.\"\n",
    "\n",
    "print(text)"
   ]
  },
  {
   "cell_type": "code",
   "execution_count": 52,
   "metadata": {},
   "outputs": [
    {
     "name": "stdout",
     "output_type": "stream",
     "text": [
      "Java Programing\n",
      "abcd abcd abcd\n",
      "abcd\n",
      "abcd abcd\n",
      "a:b:c:d:"
     ]
    }
   ],
   "source": [
    "tt = \"12:03:21\"\n",
    "tt.replace(\":\", \"/\")\n",
    "\n",
    "te = \"Pyton Programing\"\n",
    "print(te.replace(\"Pyton\", \"Java\"))\n",
    "\n",
    "strs = \"abcd\"\n",
    "print(strs, end=\" \")\n",
    "print(strs, end=\" \")\n",
    "print(strs)\n",
    "print(strs, end=\"\\n\")\n",
    "print(strs, end=\" \")\n",
    "print(strs)\n",
    "\n",
    "for c in strs:\n",
    "    print(c, end=\":\")"
   ]
  }
 ],
 "metadata": {
  "interpreter": {
   "hash": "8931d08a56ba8ec5bd4013e6d6c9066a90d099ecd0b9731835efa4c48cf46a24"
  },
  "kernelspec": {
   "display_name": "Python 3.10.1 64-bit",
   "language": "python",
   "name": "python3"
  },
  "language_info": {
   "codemirror_mode": {
    "name": "ipython",
    "version": 3
   },
   "file_extension": ".py",
   "mimetype": "text/x-python",
   "name": "python",
   "nbconvert_exporter": "python",
   "pygments_lexer": "ipython3",
   "version": "3.10.1"
  },
  "orig_nbformat": 4
 },
 "nbformat": 4,
 "nbformat_minor": 2
}
